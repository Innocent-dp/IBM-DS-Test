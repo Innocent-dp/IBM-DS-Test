{
 "cells": [
  {
   "cell_type": "markdown",
   "id": "ca6c507d-76e7-4149-909f-c3bcac86fc7f",
   "metadata": {},
   "source": [
    "# Data Science Tools and Ecosystem"
   ]
  },
  {
   "cell_type": "markdown",
   "id": "a737b52d-97de-426e-b752-7a8618ec358d",
   "metadata": {},
   "source": [
    "In this notebook, Data Science Tools and Ecosystem are summarized.\n"
   ]
  },
  {
   "cell_type": "markdown",
   "id": "5b6e116b-3d0f-4faa-9128-419a388033c6",
   "metadata": {},
   "source": [
    "**Objectives:**\n",
    "- List popular languages used by Data Scientists\n",
    "- List commonly used libraries by Data Scientists\n",
    "- List commonly used tools by Data Scientists\n",
    "- Show arithmatic calculations"
   ]
  },
  {
   "cell_type": "markdown",
   "id": "acb2f328-57de-46e8-bfcd-4f2996ba86e9",
   "metadata": {},
   "source": [
    "Some of the popular languages that Data Scientists use are:\n",
    "1. Python\n",
    "2. R \n",
    "3. SQL\n",
    "4. Java\n",
    "5. Julia\n",
    "6. Scala\n",
    "7. JavaScript"
   ]
  },
  {
   "cell_type": "markdown",
   "id": "dc3ead36-e7bf-4c66-be3a-5a1bf1fb9f69",
   "metadata": {},
   "source": [
    "Some of the commonly used libraries by Data Scientists include:\n",
    "1. NumPy\n",
    "2. Pandas\n",
    "3. Matplotlib\n",
    "4. Scikit-learn\n",
    "5. TensorFlow\n",
    "6. SciPy\n",
    "7. Keras\n",
    "8. Seaborn\n",
    "9. PyTorch"
   ]
  },
  {
   "cell_type": "markdown",
   "id": "d2a50dd3-7e7f-4160-a0af-2f6bc6dfeae0",
   "metadata": {},
   "source": [
    "Some of the tools commonly used by Data Scientists include:\n",
    "| Data Science Tools |\n",
    "| --- |\n",
    "| Apache Spark |\n",
    "| Tensor Flow |\n",
    "| Matplotlib |"
   ]
  },
  {
   "cell_type": "markdown",
   "id": "7bf2cba9-18ab-441f-a224-f1b708441015",
   "metadata": {},
   "source": [
    "### Below are a few examples of evaluating arithmetic expressions in Python"
   ]
  },
  {
   "cell_type": "code",
   "execution_count": 2,
   "id": "e99b199b-2e1b-4c3d-9518-9603d1aa840d",
   "metadata": {
    "tags": []
   },
   "outputs": [
    {
     "data": {
      "text/plain": [
       "17"
      ]
     },
     "execution_count": 2,
     "metadata": {},
     "output_type": "execute_result"
    }
   ],
   "source": [
    "# This a simple arithmetic expression to mutiply then add integers\n",
    "(3*4)+5"
   ]
  },
  {
   "cell_type": "code",
   "execution_count": 3,
   "id": "36b91ad8-861e-4f03-980c-4ba49f5012a3",
   "metadata": {
    "tags": []
   },
   "outputs": [
    {
     "data": {
      "text/plain": [
       "3.3333333333333335"
      ]
     },
     "execution_count": 3,
     "metadata": {},
     "output_type": "execute_result"
    }
   ],
   "source": [
    "# This will convert 200 minutes to hours by diving by 60\n",
    "200/60"
   ]
  },
  {
   "cell_type": "markdown",
   "id": "cf4657c0-b432-4c56-a8a3-9c1b29e05e7f",
   "metadata": {},
   "source": [
    "## Author\n",
    "Dhairya Parikh"
   ]
  },
  {
   "cell_type": "code",
   "execution_count": null,
   "id": "4f5aa0e3-f8a3-4cf2-84ad-998e687f140e",
   "metadata": {},
   "outputs": [],
   "source": []
  }
 ],
 "metadata": {
  "kernelspec": {
   "display_name": "Python 3 (ipykernel)",
   "language": "python",
   "name": "python3"
  },
  "language_info": {
   "codemirror_mode": {
    "name": "ipython",
    "version": 3
   },
   "file_extension": ".py",
   "mimetype": "text/x-python",
   "name": "python",
   "nbconvert_exporter": "python",
   "pygments_lexer": "ipython3",
   "version": "3.11.4"
  }
 },
 "nbformat": 4,
 "nbformat_minor": 5
}
